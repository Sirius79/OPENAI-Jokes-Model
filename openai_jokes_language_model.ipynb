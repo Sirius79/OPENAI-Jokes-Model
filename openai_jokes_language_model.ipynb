{
  "nbformat": 4,
  "nbformat_minor": 0,
  "metadata": {
    "colab": {
      "name": "openai jokes language model.ipynb",
      "version": "0.3.2",
      "provenance": [],
      "include_colab_link": true
    },
    "kernelspec": {
      "name": "python3",
      "display_name": "Python 3"
    },
    "accelerator": "GPU"
  },
  "cells": [
    {
      "cell_type": "markdown",
      "metadata": {
        "id": "view-in-github",
        "colab_type": "text"
      },
      "source": [
        "[View in Colaboratory](https://colab.research.google.com/github/Sirius79/OpenAI/blob/master/openai_jokes_language_model.ipynb)"
      ]
    },
    {
      "metadata": {
        "id": "1FdeNxietSFi",
        "colab_type": "code",
        "colab": {}
      },
      "cell_type": "code",
      "source": [
        "!wget https://raw.githubusercontent.com/taivop/joke-dataset/master/reddit_jokes.json\n",
        "!wget https://raw.githubusercontent.com/taivop/joke-dataset/master/stupidstuff.json\n",
        "!wget https://raw.githubusercontent.com/taivop/joke-dataset/master/wocka.json"
      ],
      "execution_count": 0,
      "outputs": []
    },
    {
      "metadata": {
        "id": "ZS5TspuHSKap",
        "colab_type": "code",
        "colab": {}
      },
      "cell_type": "code",
      "source": [
        "!pip3 install http://download.pytorch.org/whl/cu80/torch-0.3.0.post4-cp36-cp36m-linux_x86_64.whl \n",
        "!pip3 install torchvision\n",
        "!pip install torchtext"
      ],
      "execution_count": 0,
      "outputs": []
    },
    {
      "metadata": {
        "id": "hfDu51S2RpLa",
        "colab_type": "code",
        "colab": {
          "base_uri": "https://localhost:8080/",
          "height": 37
        },
        "outputId": "1026e89d-0744-4f00-fd54-d58e02a96eb6"
      },
      "cell_type": "code",
      "source": [
        "import pandas as pd\n",
        "import numpy as np\n",
        "from numpy import interp\n",
        "import json\n",
        "import torch\n",
        "import torchtext.vocab as vocab"
      ],
      "execution_count": 41,
      "outputs": []
    },
    {
      "metadata": {
        "id": "4jUCzcZhqRPH",
        "colab_type": "code",
        "colab": {
          "base_uri": "https://localhost:8080/",
          "height": 37
        },
        "outputId": "c7d38318-0d0e-4fb7-ebc6-0d17fafba9ea"
      },
      "cell_type": "code",
      "source": [
        "r_jokes = pd.read_json('reddit_jokes.json')\n",
        "s_jokes = pd.read_json('stupidstuff.json')\n",
        "w_jokes = pd.read_json('wocka.json')"
      ],
      "execution_count": 29,
      "outputs": []
    },
    {
      "metadata": {
        "id": "vRKJHL6_LTtk",
        "colab_type": "code",
        "colab": {
          "base_uri": "https://localhost:8080/",
          "height": 204
        },
        "outputId": "8a517027-73ac-490d-a89b-deb9dcc49c22"
      },
      "cell_type": "code",
      "source": [
        "r_jokes.head()"
      ],
      "execution_count": 30,
      "outputs": [
        {
          "output_type": "execute_result",
          "data": {
            "text/html": [
              "<div>\n",
              "<style scoped>\n",
              "    .dataframe tbody tr th:only-of-type {\n",
              "        vertical-align: middle;\n",
              "    }\n",
              "\n",
              "    .dataframe tbody tr th {\n",
              "        vertical-align: top;\n",
              "    }\n",
              "\n",
              "    .dataframe thead th {\n",
              "        text-align: right;\n",
              "    }\n",
              "</style>\n",
              "<table border=\"1\" class=\"dataframe\">\n",
              "  <thead>\n",
              "    <tr style=\"text-align: right;\">\n",
              "      <th></th>\n",
              "      <th>body</th>\n",
              "      <th>id</th>\n",
              "      <th>score</th>\n",
              "      <th>title</th>\n",
              "    </tr>\n",
              "  </thead>\n",
              "  <tbody>\n",
              "    <tr>\n",
              "      <th>0</th>\n",
              "      <td>Now I have to say \"Leroy can you please paint ...</td>\n",
              "      <td>5tz52q</td>\n",
              "      <td>1</td>\n",
              "      <td>I hate how you cant even say black paint anymore</td>\n",
              "    </tr>\n",
              "    <tr>\n",
              "      <th>1</th>\n",
              "      <td>Pizza doesn't scream when you put it in the ov...</td>\n",
              "      <td>5tz4dd</td>\n",
              "      <td>0</td>\n",
              "      <td>What's the difference between a Jew in Nazi Ge...</td>\n",
              "    </tr>\n",
              "    <tr>\n",
              "      <th>2</th>\n",
              "      <td>...and being there really helped me learn abou...</td>\n",
              "      <td>5tz319</td>\n",
              "      <td>0</td>\n",
              "      <td>I recently went to America....</td>\n",
              "    </tr>\n",
              "    <tr>\n",
              "      <th>3</th>\n",
              "      <td>A Sunday school teacher is concerned that his ...</td>\n",
              "      <td>5tz2wj</td>\n",
              "      <td>1</td>\n",
              "      <td>Brian raises his hand and says, “He’s in Heaven.”</td>\n",
              "    </tr>\n",
              "    <tr>\n",
              "      <th>4</th>\n",
              "      <td>He got caught trying to sell the two books to ...</td>\n",
              "      <td>5tz1pc</td>\n",
              "      <td>0</td>\n",
              "      <td>You hear about the University book store worke...</td>\n",
              "    </tr>\n",
              "  </tbody>\n",
              "</table>\n",
              "</div>"
            ],
            "text/plain": [
              "                                                body      id  score  \\\n",
              "0  Now I have to say \"Leroy can you please paint ...  5tz52q      1   \n",
              "1  Pizza doesn't scream when you put it in the ov...  5tz4dd      0   \n",
              "2  ...and being there really helped me learn abou...  5tz319      0   \n",
              "3  A Sunday school teacher is concerned that his ...  5tz2wj      1   \n",
              "4  He got caught trying to sell the two books to ...  5tz1pc      0   \n",
              "\n",
              "                                               title  \n",
              "0   I hate how you cant even say black paint anymore  \n",
              "1  What's the difference between a Jew in Nazi Ge...  \n",
              "2                     I recently went to America....  \n",
              "3  Brian raises his hand and says, “He’s in Heaven.”  \n",
              "4  You hear about the University book store worke...  "
            ]
          },
          "metadata": {
            "tags": []
          },
          "execution_count": 30
        }
      ]
    },
    {
      "metadata": {
        "id": "rpOh0tp_LWLH",
        "colab_type": "code",
        "colab": {
          "base_uri": "https://localhost:8080/",
          "height": 204
        },
        "outputId": "91dc827d-5255-4531-e093-7f6f20701a22"
      },
      "cell_type": "code",
      "source": [
        "s_jokes.head()"
      ],
      "execution_count": 31,
      "outputs": [
        {
          "output_type": "execute_result",
          "data": {
            "text/html": [
              "<div>\n",
              "<style scoped>\n",
              "    .dataframe tbody tr th:only-of-type {\n",
              "        vertical-align: middle;\n",
              "    }\n",
              "\n",
              "    .dataframe tbody tr th {\n",
              "        vertical-align: top;\n",
              "    }\n",
              "\n",
              "    .dataframe thead th {\n",
              "        text-align: right;\n",
              "    }\n",
              "</style>\n",
              "<table border=\"1\" class=\"dataframe\">\n",
              "  <thead>\n",
              "    <tr style=\"text-align: right;\">\n",
              "      <th></th>\n",
              "      <th>body</th>\n",
              "      <th>category</th>\n",
              "      <th>id</th>\n",
              "      <th>rating</th>\n",
              "    </tr>\n",
              "  </thead>\n",
              "  <tbody>\n",
              "    <tr>\n",
              "      <th>0</th>\n",
              "      <td>A blackjack dealer and a player with a thirtee...</td>\n",
              "      <td>Children</td>\n",
              "      <td>1</td>\n",
              "      <td>2.63</td>\n",
              "    </tr>\n",
              "    <tr>\n",
              "      <th>1</th>\n",
              "      <td>At a dinner party, several of the guests were ...</td>\n",
              "      <td>Blonde Jokes</td>\n",
              "      <td>2</td>\n",
              "      <td>2.57</td>\n",
              "    </tr>\n",
              "    <tr>\n",
              "      <th>2</th>\n",
              "      <td>One day this cop pulls over a blonde for speed...</td>\n",
              "      <td>Blonde Jokes</td>\n",
              "      <td>3</td>\n",
              "      <td>3.09</td>\n",
              "    </tr>\n",
              "    <tr>\n",
              "      <th>3</th>\n",
              "      <td>Three women are about to be executed for crime...</td>\n",
              "      <td>Blonde Jokes</td>\n",
              "      <td>4</td>\n",
              "      <td>4.10</td>\n",
              "    </tr>\n",
              "    <tr>\n",
              "      <th>4</th>\n",
              "      <td>A girl came skipping home FROM school one day....</td>\n",
              "      <td>Blonde Jokes</td>\n",
              "      <td>5</td>\n",
              "      <td>4.30</td>\n",
              "    </tr>\n",
              "  </tbody>\n",
              "</table>\n",
              "</div>"
            ],
            "text/plain": [
              "                                                body      category  id  rating\n",
              "0  A blackjack dealer and a player with a thirtee...      Children   1    2.63\n",
              "1  At a dinner party, several of the guests were ...  Blonde Jokes   2    2.57\n",
              "2  One day this cop pulls over a blonde for speed...  Blonde Jokes   3    3.09\n",
              "3  Three women are about to be executed for crime...  Blonde Jokes   4    4.10\n",
              "4  A girl came skipping home FROM school one day....  Blonde Jokes   5    4.30"
            ]
          },
          "metadata": {
            "tags": []
          },
          "execution_count": 31
        }
      ]
    },
    {
      "metadata": {
        "id": "--UZbpdaLZM3",
        "colab_type": "code",
        "colab": {
          "base_uri": "https://localhost:8080/",
          "height": 204
        },
        "outputId": "f7d08305-9b5e-4b94-e3d9-7f6eb73d4df2"
      },
      "cell_type": "code",
      "source": [
        "w_jokes.head()"
      ],
      "execution_count": 32,
      "outputs": [
        {
          "output_type": "execute_result",
          "data": {
            "text/html": [
              "<div>\n",
              "<style scoped>\n",
              "    .dataframe tbody tr th:only-of-type {\n",
              "        vertical-align: middle;\n",
              "    }\n",
              "\n",
              "    .dataframe tbody tr th {\n",
              "        vertical-align: top;\n",
              "    }\n",
              "\n",
              "    .dataframe thead th {\n",
              "        text-align: right;\n",
              "    }\n",
              "</style>\n",
              "<table border=\"1\" class=\"dataframe\">\n",
              "  <thead>\n",
              "    <tr style=\"text-align: right;\">\n",
              "      <th></th>\n",
              "      <th>body</th>\n",
              "      <th>category</th>\n",
              "      <th>id</th>\n",
              "      <th>title</th>\n",
              "    </tr>\n",
              "  </thead>\n",
              "  <tbody>\n",
              "    <tr>\n",
              "      <th>0</th>\n",
              "      <td>What do you call a cow with no legs?\\r\\n\\r\\nGr...</td>\n",
              "      <td>Animal</td>\n",
              "      <td>1</td>\n",
              "      <td>Cow With No Legs</td>\n",
              "    </tr>\n",
              "    <tr>\n",
              "      <th>1</th>\n",
              "      <td>What do you call a cow jumping over a barbed w...</td>\n",
              "      <td>Animal</td>\n",
              "      <td>2</td>\n",
              "      <td>Jumping Cow</td>\n",
              "    </tr>\n",
              "    <tr>\n",
              "      <th>2</th>\n",
              "      <td>What's black and white and red all over?\\r\\n\\r...</td>\n",
              "      <td>Other / Misc</td>\n",
              "      <td>4</td>\n",
              "      <td>Black, White and Red</td>\n",
              "    </tr>\n",
              "    <tr>\n",
              "      <th>3</th>\n",
              "      <td>So, this guy walks into a bar.\\r\\n\\r\\nAnd says...</td>\n",
              "      <td>Bar</td>\n",
              "      <td>5</td>\n",
              "      <td>Guy in a Bar</td>\n",
              "    </tr>\n",
              "    <tr>\n",
              "      <th>4</th>\n",
              "      <td>If the opposite of pro is con, isn't the oppos...</td>\n",
              "      <td>One Liners</td>\n",
              "      <td>6</td>\n",
              "      <td>Progress</td>\n",
              "    </tr>\n",
              "  </tbody>\n",
              "</table>\n",
              "</div>"
            ],
            "text/plain": [
              "                                                body      category  id  \\\n",
              "0  What do you call a cow with no legs?\\r\\n\\r\\nGr...        Animal   1   \n",
              "1  What do you call a cow jumping over a barbed w...        Animal   2   \n",
              "2  What's black and white and red all over?\\r\\n\\r...  Other / Misc   4   \n",
              "3  So, this guy walks into a bar.\\r\\n\\r\\nAnd says...           Bar   5   \n",
              "4  If the opposite of pro is con, isn't the oppos...    One Liners   6   \n",
              "\n",
              "                  title  \n",
              "0      Cow With No Legs  \n",
              "1           Jumping Cow  \n",
              "2  Black, White and Red  \n",
              "3          Guy in a Bar  \n",
              "4              Progress  "
            ]
          },
          "metadata": {
            "tags": []
          },
          "execution_count": 32
        }
      ]
    },
    {
      "metadata": {
        "id": "-oeUwSJvrKYi",
        "colab_type": "code",
        "colab": {
          "base_uri": "https://localhost:8080/",
          "height": 204
        },
        "outputId": "73ed40ae-5e56-4fe1-d7a4-a2dd41a3ae34"
      },
      "cell_type": "code",
      "source": [
        "r_jokes.drop(columns=['id'], inplace=True)\n",
        "r_jokes.head()"
      ],
      "execution_count": 33,
      "outputs": [
        {
          "output_type": "execute_result",
          "data": {
            "text/html": [
              "<div>\n",
              "<style scoped>\n",
              "    .dataframe tbody tr th:only-of-type {\n",
              "        vertical-align: middle;\n",
              "    }\n",
              "\n",
              "    .dataframe tbody tr th {\n",
              "        vertical-align: top;\n",
              "    }\n",
              "\n",
              "    .dataframe thead th {\n",
              "        text-align: right;\n",
              "    }\n",
              "</style>\n",
              "<table border=\"1\" class=\"dataframe\">\n",
              "  <thead>\n",
              "    <tr style=\"text-align: right;\">\n",
              "      <th></th>\n",
              "      <th>body</th>\n",
              "      <th>score</th>\n",
              "      <th>title</th>\n",
              "    </tr>\n",
              "  </thead>\n",
              "  <tbody>\n",
              "    <tr>\n",
              "      <th>0</th>\n",
              "      <td>Now I have to say \"Leroy can you please paint ...</td>\n",
              "      <td>1</td>\n",
              "      <td>I hate how you cant even say black paint anymore</td>\n",
              "    </tr>\n",
              "    <tr>\n",
              "      <th>1</th>\n",
              "      <td>Pizza doesn't scream when you put it in the ov...</td>\n",
              "      <td>0</td>\n",
              "      <td>What's the difference between a Jew in Nazi Ge...</td>\n",
              "    </tr>\n",
              "    <tr>\n",
              "      <th>2</th>\n",
              "      <td>...and being there really helped me learn abou...</td>\n",
              "      <td>0</td>\n",
              "      <td>I recently went to America....</td>\n",
              "    </tr>\n",
              "    <tr>\n",
              "      <th>3</th>\n",
              "      <td>A Sunday school teacher is concerned that his ...</td>\n",
              "      <td>1</td>\n",
              "      <td>Brian raises his hand and says, “He’s in Heaven.”</td>\n",
              "    </tr>\n",
              "    <tr>\n",
              "      <th>4</th>\n",
              "      <td>He got caught trying to sell the two books to ...</td>\n",
              "      <td>0</td>\n",
              "      <td>You hear about the University book store worke...</td>\n",
              "    </tr>\n",
              "  </tbody>\n",
              "</table>\n",
              "</div>"
            ],
            "text/plain": [
              "                                                body  score  \\\n",
              "0  Now I have to say \"Leroy can you please paint ...      1   \n",
              "1  Pizza doesn't scream when you put it in the ov...      0   \n",
              "2  ...and being there really helped me learn abou...      0   \n",
              "3  A Sunday school teacher is concerned that his ...      1   \n",
              "4  He got caught trying to sell the two books to ...      0   \n",
              "\n",
              "                                               title  \n",
              "0   I hate how you cant even say black paint anymore  \n",
              "1  What's the difference between a Jew in Nazi Ge...  \n",
              "2                     I recently went to America....  \n",
              "3  Brian raises his hand and says, “He’s in Heaven.”  \n",
              "4  You hear about the University book store worke...  "
            ]
          },
          "metadata": {
            "tags": []
          },
          "execution_count": 33
        }
      ]
    },
    {
      "metadata": {
        "id": "7y99nV6bu5mi",
        "colab_type": "code",
        "colab": {
          "base_uri": "https://localhost:8080/",
          "height": 289
        },
        "outputId": "5b82c449-9d02-41b3-f065-bb351733a205"
      },
      "cell_type": "code",
      "source": [
        "r_jokes[\"joke\"] = r_jokes[\"title\"].map(str) + \" \\n \" + r_jokes[\"body\"].map(str)\n",
        "r_jokes.head()"
      ],
      "execution_count": 34,
      "outputs": [
        {
          "output_type": "execute_result",
          "data": {
            "text/html": [
              "<div>\n",
              "<style scoped>\n",
              "    .dataframe tbody tr th:only-of-type {\n",
              "        vertical-align: middle;\n",
              "    }\n",
              "\n",
              "    .dataframe tbody tr th {\n",
              "        vertical-align: top;\n",
              "    }\n",
              "\n",
              "    .dataframe thead th {\n",
              "        text-align: right;\n",
              "    }\n",
              "</style>\n",
              "<table border=\"1\" class=\"dataframe\">\n",
              "  <thead>\n",
              "    <tr style=\"text-align: right;\">\n",
              "      <th></th>\n",
              "      <th>body</th>\n",
              "      <th>score</th>\n",
              "      <th>title</th>\n",
              "      <th>joke</th>\n",
              "    </tr>\n",
              "  </thead>\n",
              "  <tbody>\n",
              "    <tr>\n",
              "      <th>0</th>\n",
              "      <td>Now I have to say \"Leroy can you please paint ...</td>\n",
              "      <td>1</td>\n",
              "      <td>I hate how you cant even say black paint anymore</td>\n",
              "      <td>I hate how you cant even say black paint anymo...</td>\n",
              "    </tr>\n",
              "    <tr>\n",
              "      <th>1</th>\n",
              "      <td>Pizza doesn't scream when you put it in the ov...</td>\n",
              "      <td>0</td>\n",
              "      <td>What's the difference between a Jew in Nazi Ge...</td>\n",
              "      <td>What's the difference between a Jew in Nazi Ge...</td>\n",
              "    </tr>\n",
              "    <tr>\n",
              "      <th>2</th>\n",
              "      <td>...and being there really helped me learn abou...</td>\n",
              "      <td>0</td>\n",
              "      <td>I recently went to America....</td>\n",
              "      <td>I recently went to America.... \\n ...and being...</td>\n",
              "    </tr>\n",
              "    <tr>\n",
              "      <th>3</th>\n",
              "      <td>A Sunday school teacher is concerned that his ...</td>\n",
              "      <td>1</td>\n",
              "      <td>Brian raises his hand and says, “He’s in Heaven.”</td>\n",
              "      <td>Brian raises his hand and says, “He’s in Heave...</td>\n",
              "    </tr>\n",
              "    <tr>\n",
              "      <th>4</th>\n",
              "      <td>He got caught trying to sell the two books to ...</td>\n",
              "      <td>0</td>\n",
              "      <td>You hear about the University book store worke...</td>\n",
              "      <td>You hear about the University book store worke...</td>\n",
              "    </tr>\n",
              "  </tbody>\n",
              "</table>\n",
              "</div>"
            ],
            "text/plain": [
              "                                                body  score  \\\n",
              "0  Now I have to say \"Leroy can you please paint ...      1   \n",
              "1  Pizza doesn't scream when you put it in the ov...      0   \n",
              "2  ...and being there really helped me learn abou...      0   \n",
              "3  A Sunday school teacher is concerned that his ...      1   \n",
              "4  He got caught trying to sell the two books to ...      0   \n",
              "\n",
              "                                               title  \\\n",
              "0   I hate how you cant even say black paint anymore   \n",
              "1  What's the difference between a Jew in Nazi Ge...   \n",
              "2                     I recently went to America....   \n",
              "3  Brian raises his hand and says, “He’s in Heaven.”   \n",
              "4  You hear about the University book store worke...   \n",
              "\n",
              "                                                joke  \n",
              "0  I hate how you cant even say black paint anymo...  \n",
              "1  What's the difference between a Jew in Nazi Ge...  \n",
              "2  I recently went to America.... \\n ...and being...  \n",
              "3  Brian raises his hand and says, “He’s in Heave...  \n",
              "4  You hear about the University book store worke...  "
            ]
          },
          "metadata": {
            "tags": []
          },
          "execution_count": 34
        }
      ]
    },
    {
      "metadata": {
        "id": "3BVjbGGqyNOv",
        "colab_type": "code",
        "colab": {
          "base_uri": "https://localhost:8080/",
          "height": 34
        },
        "outputId": "0e5fcb87-f176-4caf-ef07-a5c881e16215"
      },
      "cell_type": "code",
      "source": [
        "r_jokes[\"score\"].min()\n",
        "r_jokes[\"score\"].max()"
      ],
      "execution_count": 37,
      "outputs": [
        {
          "output_type": "execute_result",
          "data": {
            "text/plain": [
              "48526"
            ]
          },
          "metadata": {
            "tags": []
          },
          "execution_count": 37
        }
      ]
    },
    {
      "metadata": {
        "id": "ctw4E08Lz9PX",
        "colab_type": "code",
        "colab": {
          "base_uri": "https://localhost:8080/",
          "height": 54
        },
        "outputId": "d15a91f2-7a97-46f4-d7af-0931e33512b1"
      },
      "cell_type": "code",
      "source": [
        "r_jokes[\"joke\"][4]"
      ],
      "execution_count": 38,
      "outputs": [
        {
          "output_type": "execute_result",
          "data": {
            "text/plain": [
              "'You hear about the University book store worker who was charged for stealing $20,000 worth of books? \\n He got caught trying to sell the two books to a freshman.'"
            ]
          },
          "metadata": {
            "tags": []
          },
          "execution_count": 38
        }
      ]
    },
    {
      "metadata": {
        "id": "Sd6Mruy10Ljb",
        "colab_type": "code",
        "colab": {
          "base_uri": "https://localhost:8080/",
          "height": 204
        },
        "outputId": "2a2279eb-792f-4425-cfbd-ce75f26ab9ec"
      },
      "cell_type": "code",
      "source": [
        "r_jokes.drop(columns=['body','title'], inplace=True)\n",
        "r_jokes.head()"
      ],
      "execution_count": 39,
      "outputs": [
        {
          "output_type": "execute_result",
          "data": {
            "text/html": [
              "<div>\n",
              "<style scoped>\n",
              "    .dataframe tbody tr th:only-of-type {\n",
              "        vertical-align: middle;\n",
              "    }\n",
              "\n",
              "    .dataframe tbody tr th {\n",
              "        vertical-align: top;\n",
              "    }\n",
              "\n",
              "    .dataframe thead th {\n",
              "        text-align: right;\n",
              "    }\n",
              "</style>\n",
              "<table border=\"1\" class=\"dataframe\">\n",
              "  <thead>\n",
              "    <tr style=\"text-align: right;\">\n",
              "      <th></th>\n",
              "      <th>score</th>\n",
              "      <th>joke</th>\n",
              "    </tr>\n",
              "  </thead>\n",
              "  <tbody>\n",
              "    <tr>\n",
              "      <th>0</th>\n",
              "      <td>1</td>\n",
              "      <td>I hate how you cant even say black paint anymo...</td>\n",
              "    </tr>\n",
              "    <tr>\n",
              "      <th>1</th>\n",
              "      <td>0</td>\n",
              "      <td>What's the difference between a Jew in Nazi Ge...</td>\n",
              "    </tr>\n",
              "    <tr>\n",
              "      <th>2</th>\n",
              "      <td>0</td>\n",
              "      <td>I recently went to America.... \\n ...and being...</td>\n",
              "    </tr>\n",
              "    <tr>\n",
              "      <th>3</th>\n",
              "      <td>1</td>\n",
              "      <td>Brian raises his hand and says, “He’s in Heave...</td>\n",
              "    </tr>\n",
              "    <tr>\n",
              "      <th>4</th>\n",
              "      <td>0</td>\n",
              "      <td>You hear about the University book store worke...</td>\n",
              "    </tr>\n",
              "  </tbody>\n",
              "</table>\n",
              "</div>"
            ],
            "text/plain": [
              "   score                                               joke\n",
              "0      1  I hate how you cant even say black paint anymo...\n",
              "1      0  What's the difference between a Jew in Nazi Ge...\n",
              "2      0  I recently went to America.... \\n ...and being...\n",
              "3      1  Brian raises his hand and says, “He’s in Heave...\n",
              "4      0  You hear about the University book store worke..."
            ]
          },
          "metadata": {
            "tags": []
          },
          "execution_count": 39
        }
      ]
    },
    {
      "metadata": {
        "id": "hPCIgnL1VMqq",
        "colab_type": "code",
        "colab": {
          "base_uri": "https://localhost:8080/",
          "height": 34
        },
        "outputId": "ba9a5e9f-1e51-4d61-8586-0977e0df9041"
      },
      "cell_type": "code",
      "source": [
        "val = interp(r_jokes.score.values, [0, 48526], [1, 10])\n",
        "print(val)"
      ],
      "execution_count": 42,
      "outputs": [
        {
          "output_type": "stream",
          "text": [
            "[1.00018547 1.         1.         ... 1.00816057 1.01168446 1.        ]\n"
          ],
          "name": "stdout"
        }
      ]
    },
    {
      "metadata": {
        "id": "w7xyeA5CAv-b",
        "colab_type": "code",
        "colab": {
          "base_uri": "https://localhost:8080/",
          "height": 37
        },
        "outputId": "6ecb4f51-1a0b-4c64-ea0a-ed8c770d7d41"
      },
      "cell_type": "code",
      "source": [
        "r_jokes['score'] = val"
      ],
      "execution_count": 43,
      "outputs": []
    },
    {
      "metadata": {
        "id": "KpddQ_KMBUi3",
        "colab_type": "code",
        "colab": {
          "base_uri": "https://localhost:8080/",
          "height": 34
        },
        "outputId": "904fd4ad-0795-4324-e113-53f3a27c0f55"
      },
      "cell_type": "code",
      "source": [
        "r_jokes.score.max()"
      ],
      "execution_count": 44,
      "outputs": [
        {
          "output_type": "execute_result",
          "data": {
            "text/plain": [
              "10.0"
            ]
          },
          "metadata": {
            "tags": []
          },
          "execution_count": 44
        }
      ]
    },
    {
      "metadata": {
        "id": "lt9lH-U8BKyd",
        "colab_type": "code",
        "colab": {
          "base_uri": "https://localhost:8080/",
          "height": 54
        },
        "outputId": "30195893-bb2f-457b-ac6d-afa72e15d69d"
      },
      "cell_type": "code",
      "source": [
        "r_jokes['joke'][7]"
      ],
      "execution_count": 45,
      "outputs": [
        {
          "output_type": "execute_result",
          "data": {
            "text/plain": [
              "'I walked into a PETA adoption center and the receptionist asked me what kind of dog I wanted \\n Apparently \"Whatever\\'s low in cholesterol\" was not the right answer.'"
            ]
          },
          "metadata": {
            "tags": []
          },
          "execution_count": 45
        }
      ]
    },
    {
      "metadata": {
        "id": "bu6qYdcKW6mC",
        "colab_type": "code",
        "colab": {
          "base_uri": "https://localhost:8080/",
          "height": 204
        },
        "outputId": "51b3a161-5a81-403f-da48-62c630353c66"
      },
      "cell_type": "code",
      "source": [
        "s_jokes.drop(columns=['category','id'], inplace=True)\n",
        "s_jokes.head()"
      ],
      "execution_count": 46,
      "outputs": [
        {
          "output_type": "execute_result",
          "data": {
            "text/html": [
              "<div>\n",
              "<style scoped>\n",
              "    .dataframe tbody tr th:only-of-type {\n",
              "        vertical-align: middle;\n",
              "    }\n",
              "\n",
              "    .dataframe tbody tr th {\n",
              "        vertical-align: top;\n",
              "    }\n",
              "\n",
              "    .dataframe thead th {\n",
              "        text-align: right;\n",
              "    }\n",
              "</style>\n",
              "<table border=\"1\" class=\"dataframe\">\n",
              "  <thead>\n",
              "    <tr style=\"text-align: right;\">\n",
              "      <th></th>\n",
              "      <th>body</th>\n",
              "      <th>rating</th>\n",
              "    </tr>\n",
              "  </thead>\n",
              "  <tbody>\n",
              "    <tr>\n",
              "      <th>0</th>\n",
              "      <td>A blackjack dealer and a player with a thirtee...</td>\n",
              "      <td>2.63</td>\n",
              "    </tr>\n",
              "    <tr>\n",
              "      <th>1</th>\n",
              "      <td>At a dinner party, several of the guests were ...</td>\n",
              "      <td>2.57</td>\n",
              "    </tr>\n",
              "    <tr>\n",
              "      <th>2</th>\n",
              "      <td>One day this cop pulls over a blonde for speed...</td>\n",
              "      <td>3.09</td>\n",
              "    </tr>\n",
              "    <tr>\n",
              "      <th>3</th>\n",
              "      <td>Three women are about to be executed for crime...</td>\n",
              "      <td>4.10</td>\n",
              "    </tr>\n",
              "    <tr>\n",
              "      <th>4</th>\n",
              "      <td>A girl came skipping home FROM school one day....</td>\n",
              "      <td>4.30</td>\n",
              "    </tr>\n",
              "  </tbody>\n",
              "</table>\n",
              "</div>"
            ],
            "text/plain": [
              "                                                body  rating\n",
              "0  A blackjack dealer and a player with a thirtee...    2.63\n",
              "1  At a dinner party, several of the guests were ...    2.57\n",
              "2  One day this cop pulls over a blonde for speed...    3.09\n",
              "3  Three women are about to be executed for crime...    4.10\n",
              "4  A girl came skipping home FROM school one day....    4.30"
            ]
          },
          "metadata": {
            "tags": []
          },
          "execution_count": 46
        }
      ]
    },
    {
      "metadata": {
        "id": "5ixe_IzLY_NL",
        "colab_type": "code",
        "colab": {
          "base_uri": "https://localhost:8080/",
          "height": 204
        },
        "outputId": "ce4c17a5-1dfb-435b-8a61-d5944f6bffc7"
      },
      "cell_type": "code",
      "source": [
        "s_jokes = s_jokes.rename(columns={'body': 'joke', 'rating': 'score'})\n",
        "s_jokes.head()"
      ],
      "execution_count": 47,
      "outputs": [
        {
          "output_type": "execute_result",
          "data": {
            "text/html": [
              "<div>\n",
              "<style scoped>\n",
              "    .dataframe tbody tr th:only-of-type {\n",
              "        vertical-align: middle;\n",
              "    }\n",
              "\n",
              "    .dataframe tbody tr th {\n",
              "        vertical-align: top;\n",
              "    }\n",
              "\n",
              "    .dataframe thead th {\n",
              "        text-align: right;\n",
              "    }\n",
              "</style>\n",
              "<table border=\"1\" class=\"dataframe\">\n",
              "  <thead>\n",
              "    <tr style=\"text-align: right;\">\n",
              "      <th></th>\n",
              "      <th>joke</th>\n",
              "      <th>score</th>\n",
              "    </tr>\n",
              "  </thead>\n",
              "  <tbody>\n",
              "    <tr>\n",
              "      <th>0</th>\n",
              "      <td>A blackjack dealer and a player with a thirtee...</td>\n",
              "      <td>2.63</td>\n",
              "    </tr>\n",
              "    <tr>\n",
              "      <th>1</th>\n",
              "      <td>At a dinner party, several of the guests were ...</td>\n",
              "      <td>2.57</td>\n",
              "    </tr>\n",
              "    <tr>\n",
              "      <th>2</th>\n",
              "      <td>One day this cop pulls over a blonde for speed...</td>\n",
              "      <td>3.09</td>\n",
              "    </tr>\n",
              "    <tr>\n",
              "      <th>3</th>\n",
              "      <td>Three women are about to be executed for crime...</td>\n",
              "      <td>4.10</td>\n",
              "    </tr>\n",
              "    <tr>\n",
              "      <th>4</th>\n",
              "      <td>A girl came skipping home FROM school one day....</td>\n",
              "      <td>4.30</td>\n",
              "    </tr>\n",
              "  </tbody>\n",
              "</table>\n",
              "</div>"
            ],
            "text/plain": [
              "                                                joke  score\n",
              "0  A blackjack dealer and a player with a thirtee...   2.63\n",
              "1  At a dinner party, several of the guests were ...   2.57\n",
              "2  One day this cop pulls over a blonde for speed...   3.09\n",
              "3  Three women are about to be executed for crime...   4.10\n",
              "4  A girl came skipping home FROM school one day....   4.30"
            ]
          },
          "metadata": {
            "tags": []
          },
          "execution_count": 47
        }
      ]
    },
    {
      "metadata": {
        "id": "ErCeCuWQZMLd",
        "colab_type": "code",
        "colab": {
          "base_uri": "https://localhost:8080/",
          "height": 37
        },
        "outputId": "9ac0cd8b-afa6-44b8-c393-4562219fadfb"
      },
      "cell_type": "code",
      "source": [
        "s_jokes = s_jokes[['score','joke']]"
      ],
      "execution_count": 48,
      "outputs": []
    },
    {
      "metadata": {
        "id": "7DoQa58-Z6wF",
        "colab_type": "code",
        "colab": {
          "base_uri": "https://localhost:8080/",
          "height": 204
        },
        "outputId": "70b81815-df72-41e5-ef1c-68035474b168"
      },
      "cell_type": "code",
      "source": [
        "s_jokes.head()"
      ],
      "execution_count": 49,
      "outputs": [
        {
          "output_type": "execute_result",
          "data": {
            "text/html": [
              "<div>\n",
              "<style scoped>\n",
              "    .dataframe tbody tr th:only-of-type {\n",
              "        vertical-align: middle;\n",
              "    }\n",
              "\n",
              "    .dataframe tbody tr th {\n",
              "        vertical-align: top;\n",
              "    }\n",
              "\n",
              "    .dataframe thead th {\n",
              "        text-align: right;\n",
              "    }\n",
              "</style>\n",
              "<table border=\"1\" class=\"dataframe\">\n",
              "  <thead>\n",
              "    <tr style=\"text-align: right;\">\n",
              "      <th></th>\n",
              "      <th>score</th>\n",
              "      <th>joke</th>\n",
              "    </tr>\n",
              "  </thead>\n",
              "  <tbody>\n",
              "    <tr>\n",
              "      <th>0</th>\n",
              "      <td>2.63</td>\n",
              "      <td>A blackjack dealer and a player with a thirtee...</td>\n",
              "    </tr>\n",
              "    <tr>\n",
              "      <th>1</th>\n",
              "      <td>2.57</td>\n",
              "      <td>At a dinner party, several of the guests were ...</td>\n",
              "    </tr>\n",
              "    <tr>\n",
              "      <th>2</th>\n",
              "      <td>3.09</td>\n",
              "      <td>One day this cop pulls over a blonde for speed...</td>\n",
              "    </tr>\n",
              "    <tr>\n",
              "      <th>3</th>\n",
              "      <td>4.10</td>\n",
              "      <td>Three women are about to be executed for crime...</td>\n",
              "    </tr>\n",
              "    <tr>\n",
              "      <th>4</th>\n",
              "      <td>4.30</td>\n",
              "      <td>A girl came skipping home FROM school one day....</td>\n",
              "    </tr>\n",
              "  </tbody>\n",
              "</table>\n",
              "</div>"
            ],
            "text/plain": [
              "   score                                               joke\n",
              "0   2.63  A blackjack dealer and a player with a thirtee...\n",
              "1   2.57  At a dinner party, several of the guests were ...\n",
              "2   3.09  One day this cop pulls over a blonde for speed...\n",
              "3   4.10  Three women are about to be executed for crime...\n",
              "4   4.30  A girl came skipping home FROM school one day...."
            ]
          },
          "metadata": {
            "tags": []
          },
          "execution_count": 49
        }
      ]
    },
    {
      "metadata": {
        "id": "V5-xBcm9anDn",
        "colab_type": "code",
        "colab": {
          "base_uri": "https://localhost:8080/",
          "height": 34
        },
        "outputId": "65e5c609-5dd3-4a91-d552-15f2195060d7"
      },
      "cell_type": "code",
      "source": [
        "val = interp(s_jokes.score.values, [1, 5], [1, 10])\n",
        "print(val)"
      ],
      "execution_count": 50,
      "outputs": [
        {
          "output_type": "stream",
          "text": [
            "[4.6675 4.5325 5.7025 ... 1.     7.75   5.5   ]\n"
          ],
          "name": "stdout"
        }
      ]
    },
    {
      "metadata": {
        "id": "xvS8-m9QDRKq",
        "colab_type": "code",
        "colab": {
          "base_uri": "https://localhost:8080/",
          "height": 37
        },
        "outputId": "86a9c2d7-7659-4847-9da4-783ffb4f3540"
      },
      "cell_type": "code",
      "source": [
        "s_jokes['score'] = val"
      ],
      "execution_count": 51,
      "outputs": []
    },
    {
      "metadata": {
        "id": "CPm07aHGZ_uX",
        "colab_type": "code",
        "colab": {
          "base_uri": "https://localhost:8080/",
          "height": 37
        },
        "outputId": "696f27dd-d43c-4724-c329-cf1d653c36b0"
      },
      "cell_type": "code",
      "source": [
        "data = pd.concat([r_jokes, s_jokes])"
      ],
      "execution_count": 52,
      "outputs": []
    },
    {
      "metadata": {
        "id": "GuNp1ScIabgA",
        "colab_type": "code",
        "colab": {
          "base_uri": "https://localhost:8080/",
          "height": 34
        },
        "outputId": "0f921438-4750-459c-df4a-a63bfc408cdc"
      },
      "cell_type": "code",
      "source": [
        "data.shape"
      ],
      "execution_count": 53,
      "outputs": [
        {
          "output_type": "execute_result",
          "data": {
            "text/plain": [
              "(198326, 2)"
            ]
          },
          "metadata": {
            "tags": []
          },
          "execution_count": 53
        }
      ]
    },
    {
      "metadata": {
        "id": "lSaAwvhwWrXv",
        "colab_type": "code",
        "colab": {
          "base_uri": "https://localhost:8080/",
          "height": 68
        },
        "outputId": "f1406f2f-5190-450c-cdda-743373baf873"
      },
      "cell_type": "code",
      "source": [
        "glove = vocab.GloVe(name='6B', dim=300)\n",
        "\n",
        "print('Loaded {} words'.format(len(glove.itos)))"
      ],
      "execution_count": 28,
      "outputs": [
        {
          "output_type": "stream",
          "text": [
            ".vector_cache/glove.6B.zip: 862MB [01:03, 13.6MB/s]                           \n",
            " 92%|█████████▏| 367614/400000 [00:50<00:04, 7315.11it/s]"
          ],
          "name": "stderr"
        },
        {
          "output_type": "stream",
          "text": [
            "100%|██████████| 400000/400000 [00:54<00:00, 7310.21it/s]\n"
          ],
          "name": "stderr"
        },
        {
          "output_type": "stream",
          "text": [
            "Loaded 400000 words\n"
          ],
          "name": "stdout"
        }
      ]
    },
    {
      "metadata": {
        "id": "Rqmop-hCYgey",
        "colab_type": "code",
        "colab": {}
      },
      "cell_type": "code",
      "source": [
        "def get_word(word):\n",
        "  return glove.vectors[glove.stoi[word]]"
      ],
      "execution_count": 0,
      "outputs": []
    },
    {
      "metadata": {
        "id": "WGgGs0fbZEfQ",
        "colab_type": "code",
        "colab": {
          "base_uri": "https://localhost:8080/",
          "height": 5168
        },
        "outputId": "06a7f6f2-41af-4c22-80e5-441f8a337975"
      },
      "cell_type": "code",
      "source": [
        "vector = get_word('microsoft')\n",
        "\n",
        "print(vector)"
      ],
      "execution_count": 44,
      "outputs": [
        {
          "output_type": "stream",
          "text": [
            "\n",
            "-0.6931\n",
            "-0.5403\n",
            " 0.0296\n",
            "-0.7620\n",
            "-0.1420\n",
            " 0.1930\n",
            "-0.2919\n",
            "-0.0456\n",
            " 0.6191\n",
            "-1.2621\n",
            "-0.0891\n",
            " 0.1066\n",
            " 0.3033\n",
            "-0.4280\n",
            "-0.1952\n",
            " 0.4072\n",
            "-0.2164\n",
            "-0.1868\n",
            " 0.2145\n",
            " 0.0453\n",
            " 0.6970\n",
            " 0.2106\n",
            " 0.8118\n",
            "-0.0398\n",
            "-0.4938\n",
            "-0.1101\n",
            " 0.5436\n",
            "-0.6324\n",
            "-0.1401\n",
            "-0.4686\n",
            "-0.2391\n",
            " 0.1562\n",
            " 0.6937\n",
            "-0.1282\n",
            "-1.0577\n",
            "-0.5012\n",
            "-0.4048\n",
            "-0.1725\n",
            "-0.2489\n",
            "-0.3538\n",
            " 0.4675\n",
            " 0.6646\n",
            "-0.5726\n",
            " 1.2395\n",
            " 0.0736\n",
            " 0.3270\n",
            "-0.4157\n",
            "-0.1743\n",
            "-0.1028\n",
            "-0.5482\n",
            " 0.3181\n",
            " 0.0311\n",
            " 0.0401\n",
            " 0.2772\n",
            " 0.1662\n",
            " 0.5678\n",
            " 0.0749\n",
            "-0.0183\n",
            "-0.0250\n",
            "-0.3743\n",
            " 0.2376\n",
            " 0.3067\n",
            " 0.4385\n",
            "-0.1985\n",
            " 0.0096\n",
            " 0.2931\n",
            "-0.7051\n",
            " 0.2105\n",
            " 0.0695\n",
            "-0.2831\n",
            "-0.5261\n",
            "-0.2524\n",
            " 0.2945\n",
            " 0.0516\n",
            " 0.4239\n",
            " 0.1266\n",
            " 0.4750\n",
            "-0.1004\n",
            " 0.3106\n",
            " 0.2485\n",
            "-0.6093\n",
            "-0.0804\n",
            "-0.4771\n",
            "-0.7622\n",
            " 0.4163\n",
            "-0.2847\n",
            "-0.0279\n",
            "-0.0146\n",
            " 0.2592\n",
            "-0.4684\n",
            "-1.1202\n",
            " 0.0264\n",
            "-0.3795\n",
            " 0.6349\n",
            " 0.6731\n",
            " 0.4025\n",
            "-0.8242\n",
            "-0.0679\n",
            " 0.3856\n",
            "-0.8131\n",
            "-0.1730\n",
            "-0.1248\n",
            "-0.3540\n",
            "-0.3534\n",
            " 0.1079\n",
            "-0.1073\n",
            "-0.2050\n",
            "-0.0404\n",
            "-0.2779\n",
            "-0.4257\n",
            "-0.5099\n",
            "-0.4758\n",
            "-0.3119\n",
            " 0.1480\n",
            "-0.3407\n",
            "-0.2170\n",
            "-0.5224\n",
            "-0.1685\n",
            "-0.3167\n",
            " 0.2309\n",
            "-0.0396\n",
            "-0.6129\n",
            "-0.2166\n",
            "-0.5474\n",
            " 0.2081\n",
            "-0.1969\n",
            "-0.2271\n",
            " 1.1183\n",
            " 0.2262\n",
            " 0.4277\n",
            "-0.0057\n",
            " 0.4441\n",
            "-0.3417\n",
            " 0.3957\n",
            "-0.0862\n",
            "-0.1169\n",
            " 1.0467\n",
            "-0.0735\n",
            " 0.7259\n",
            " 0.2817\n",
            " 0.0831\n",
            " 0.1067\n",
            " 0.0994\n",
            " 0.4216\n",
            "-0.7596\n",
            "-0.0493\n",
            " 0.5749\n",
            "-0.1526\n",
            " 0.1658\n",
            " 0.1143\n",
            " 0.0237\n",
            " 0.0628\n",
            " 0.1168\n",
            "-0.1819\n",
            "-0.4033\n",
            "-0.2648\n",
            "-0.0070\n",
            " 0.6369\n",
            "-0.1745\n",
            " 0.0487\n",
            "-0.0453\n",
            " 0.1961\n",
            "-0.5780\n",
            " 0.4035\n",
            " 0.5921\n",
            "-0.1223\n",
            "-0.2055\n",
            " 1.1750\n",
            "-0.2859\n",
            " 1.0576\n",
            "-0.4474\n",
            "-0.2252\n",
            "-1.1004\n",
            " 0.2432\n",
            " 0.2577\n",
            "-0.3050\n",
            " 0.0236\n",
            " 0.3113\n",
            "-0.2065\n",
            "-0.0150\n",
            "-0.2956\n",
            " 0.1295\n",
            " 0.1915\n",
            "-0.4737\n",
            " 0.4166\n",
            "-0.2047\n",
            "-0.4023\n",
            "-0.0915\n",
            " 0.3258\n",
            " 0.1566\n",
            " 0.3017\n",
            " 0.0221\n",
            "-0.2230\n",
            " 0.5204\n",
            " 0.0930\n",
            "-0.4722\n",
            "-0.1151\n",
            " 0.5034\n",
            "-0.0358\n",
            "-0.4386\n",
            " 0.4564\n",
            "-0.6394\n",
            " 0.0505\n",
            " 0.3156\n",
            "-0.3167\n",
            " 0.2895\n",
            "-0.2294\n",
            "-0.3953\n",
            "-0.5204\n",
            "-0.3844\n",
            " 0.3283\n",
            " 0.1011\n",
            " 0.2918\n",
            "-0.1179\n",
            "-0.5366\n",
            " 0.5444\n",
            "-0.5619\n",
            " 1.2512\n",
            "-0.7066\n",
            " 0.1252\n",
            "-0.2750\n",
            " 0.8105\n",
            "-0.2914\n",
            " 0.2539\n",
            " 0.3923\n",
            "-0.4042\n",
            "-0.3585\n",
            " 0.4891\n",
            "-0.2656\n",
            "-0.2013\n",
            "-0.6273\n",
            " 0.5957\n",
            "-0.0597\n",
            "-0.0256\n",
            " 0.3485\n",
            "-0.2398\n",
            "-0.1572\n",
            " 0.3727\n",
            " 0.0795\n",
            "-0.1694\n",
            "-0.0344\n",
            "-0.0886\n",
            "-0.0317\n",
            "-0.1065\n",
            "-0.8489\n",
            " 0.0115\n",
            "-0.6348\n",
            "-0.7839\n",
            " 0.5361\n",
            "-0.0212\n",
            "-0.0542\n",
            " 1.0139\n",
            "-0.4778\n",
            " 0.0981\n",
            "-0.4490\n",
            " 0.1840\n",
            "-0.7649\n",
            " 0.3346\n",
            " 0.0888\n",
            " 0.0711\n",
            "-0.1122\n",
            "-0.3609\n",
            "-0.5350\n",
            "-0.3715\n",
            " 0.4933\n",
            " 0.5344\n",
            "-0.1417\n",
            "-0.3193\n",
            "-0.0216\n",
            "-0.3466\n",
            "-0.1571\n",
            " 0.1237\n",
            "-0.6917\n",
            "-0.9953\n",
            "-0.7128\n",
            " 0.0548\n",
            "-1.3246\n",
            "-0.3876\n",
            " 0.3538\n",
            "-0.4847\n",
            "-0.0887\n",
            " 0.3778\n",
            " 0.4161\n",
            " 0.7731\n",
            " 0.1649\n",
            "-0.7449\n",
            "-0.4144\n",
            "-0.4984\n",
            "-0.0052\n",
            "-0.2887\n",
            " 0.4719\n",
            " 0.1196\n",
            " 0.1423\n",
            " 0.2969\n",
            "-0.2750\n",
            "-0.0277\n",
            "-0.3936\n",
            "-0.0651\n",
            "-0.0065\n",
            "-0.2285\n",
            "[torch.FloatTensor of size 300]\n",
            "\n"
          ],
          "name": "stdout"
        }
      ]
    },
    {
      "metadata": {
        "id": "RNl2tz7xZqdA",
        "colab_type": "code",
        "colab": {
          "base_uri": "https://localhost:8080/",
          "height": 359
        },
        "outputId": "62b506a1-627c-49de-8e8a-0bca94dce72a"
      },
      "cell_type": "code",
      "source": [
        "data.head(10)  "
      ],
      "execution_count": 39,
      "outputs": [
        {
          "output_type": "execute_result",
          "data": {
            "text/html": [
              "<div>\n",
              "<style scoped>\n",
              "    .dataframe tbody tr th:only-of-type {\n",
              "        vertical-align: middle;\n",
              "    }\n",
              "\n",
              "    .dataframe tbody tr th {\n",
              "        vertical-align: top;\n",
              "    }\n",
              "\n",
              "    .dataframe thead th {\n",
              "        text-align: right;\n",
              "    }\n",
              "</style>\n",
              "<table border=\"1\" class=\"dataframe\">\n",
              "  <thead>\n",
              "    <tr style=\"text-align: right;\">\n",
              "      <th></th>\n",
              "      <th>score</th>\n",
              "      <th>joke</th>\n",
              "    </tr>\n",
              "  </thead>\n",
              "  <tbody>\n",
              "    <tr>\n",
              "      <th>0</th>\n",
              "      <td>0.0</td>\n",
              "      <td>I hate how you cant even say black paint anymo...</td>\n",
              "    </tr>\n",
              "    <tr>\n",
              "      <th>1</th>\n",
              "      <td>0.0</td>\n",
              "      <td>What's the difference between a Jew in Nazi Ge...</td>\n",
              "    </tr>\n",
              "    <tr>\n",
              "      <th>2</th>\n",
              "      <td>0.0</td>\n",
              "      <td>I recently went to America.... \\n ...and being...</td>\n",
              "    </tr>\n",
              "    <tr>\n",
              "      <th>3</th>\n",
              "      <td>0.0</td>\n",
              "      <td>Brian raises his hand and says, “He’s in Heave...</td>\n",
              "    </tr>\n",
              "    <tr>\n",
              "      <th>4</th>\n",
              "      <td>0.0</td>\n",
              "      <td>You hear about the University book store worke...</td>\n",
              "    </tr>\n",
              "    <tr>\n",
              "      <th>5</th>\n",
              "      <td>0.0</td>\n",
              "      <td>Why is it unknown on how pterodactyls urinate ...</td>\n",
              "    </tr>\n",
              "    <tr>\n",
              "      <th>6</th>\n",
              "      <td>0.0</td>\n",
              "      <td>Why women need legs? \\n To avoid leaving track...</td>\n",
              "    </tr>\n",
              "    <tr>\n",
              "      <th>7</th>\n",
              "      <td>0.0</td>\n",
              "      <td>I walked into a PETA adoption center and the r...</td>\n",
              "    </tr>\n",
              "    <tr>\n",
              "      <th>8</th>\n",
              "      <td>0.0</td>\n",
              "      <td>How did TV studios make words appear on screen...</td>\n",
              "    </tr>\n",
              "    <tr>\n",
              "      <th>9</th>\n",
              "      <td>0.0</td>\n",
              "      <td>How do you find Will Smith in the snow? \\n You...</td>\n",
              "    </tr>\n",
              "  </tbody>\n",
              "</table>\n",
              "</div>"
            ],
            "text/plain": [
              "   score                                               joke\n",
              "0    0.0  I hate how you cant even say black paint anymo...\n",
              "1    0.0  What's the difference between a Jew in Nazi Ge...\n",
              "2    0.0  I recently went to America.... \\n ...and being...\n",
              "3    0.0  Brian raises his hand and says, “He’s in Heave...\n",
              "4    0.0  You hear about the University book store worke...\n",
              "5    0.0  Why is it unknown on how pterodactyls urinate ...\n",
              "6    0.0  Why women need legs? \\n To avoid leaving track...\n",
              "7    0.0  I walked into a PETA adoption center and the r...\n",
              "8    0.0  How did TV studios make words appear on screen...\n",
              "9    0.0  How do you find Will Smith in the snow? \\n You..."
            ]
          },
          "metadata": {
            "tags": []
          },
          "execution_count": 39
        }
      ]
    },
    {
      "metadata": {
        "id": "u79Yp84iC0DP",
        "colab_type": "code",
        "colab": {
          "base_uri": "https://localhost:8080/",
          "height": 34
        },
        "outputId": "870ba7bf-798f-40e4-f4ae-b7711da833e8"
      },
      "cell_type": "code",
      "source": [
        "_jokes = {}\n",
        "for _, row in data.iterrows():\n",
        "  _jokes[row['joke']] = row['score']  \n",
        "\n",
        "'''\n",
        "for key, value in _jokes.items():\n",
        "  print(key+\" : \"+ str(value))\n",
        "'''"
      ],
      "execution_count": 82,
      "outputs": [
        {
          "output_type": "execute_result",
          "data": {
            "text/plain": [
              "'\\nfor key, value in _jokes.items():\\n  print(key+\" : \"+ str(value))\\n'"
            ]
          },
          "metadata": {
            "tags": []
          },
          "execution_count": 82
        }
      ]
    },
    {
      "metadata": {
        "id": "LTGhbwdMQWlr",
        "colab_type": "code",
        "colab": {}
      },
      "cell_type": "code",
      "source": [
        ""
      ],
      "execution_count": 0,
      "outputs": []
    }
  ]
}